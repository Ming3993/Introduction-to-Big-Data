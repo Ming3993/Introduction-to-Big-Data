{
 "cells": [
  {
   "cell_type": "code",
   "execution_count": null,
   "id": "6e034081",
   "metadata": {},
   "outputs": [],
   "source": [
    "from pyspark.sql import SparkSession\n",
    "from pyspark.sql.functions import from_json, col\n",
    "from pyspark.sql.types import StructType, StringType, DoubleType, ArrayType"
   ]
  },
  {
   "cell_type": "markdown",
   "id": "5711cddf",
   "metadata": {},
   "source": [
    "### Create Spark session"
   ]
  },
  {
   "cell_type": "code",
   "execution_count": null,
   "id": "89d07b48",
   "metadata": {},
   "outputs": [],
   "source": [
    "from pyspark.sql import SparkSession\n",
    "import os\n",
    "\n",
    "spark = SparkSession.builder \\\n",
    "    .config(\"spark.jars\", jars) \\\n",
    "    .appName(\"Check Spark Version\") \\\n",
    "    .master(\"local[*]\") \\\n",
    "    .getOrCreate()"
   ]
  },
  {
   "cell_type": "markdown",
   "id": "1ad7eef5",
   "metadata": {},
   "source": [
    "### Read data from `btc-price` topic"
   ]
  },
  {
   "cell_type": "markdown",
   "id": "9271065b",
   "metadata": {},
   "source": [
    "Read and parse the data from the `btc-price` topic"
   ]
  },
  {
   "cell_type": "code",
   "execution_count": null,
   "id": "510d3d6d",
   "metadata": {},
   "outputs": [],
   "source": [
    "# Read data from btc-price topic\n",
    "# btc-price publish its data from inside the container to outside using 9092 port\n",
    "df_price = spark.readStream \\\n",
    "    .format(\"kafka\") \\\n",
    "    .option(\"kafka.bootstrap.servers\", \"broker:9092\") \\ \n",
    "    .option(\"subscribe\", \"btc-price\") \\\n",
    "    .load()\n",
    "    \n",
    "# get kafka value and convert it from binary to string format\n",
    "df_string_price = df_price.selectExpr(\"CAST(value AS STRING) as json_value\")\n",
    "\n",
    "# cause the data is structured in json format, define a schema to parse it\n",
    "schema_price = StructType() \\\n",
    "    .add(\"symbol\", StringType()) \\\n",
    "    .add(\"price\", StringType()) \\\n",
    "    .add(\"timestamp\", StringType())\n",
    "    \n",
    "# Parse JSON\n",
    "parsed_price_df = df_string_price.select(from_json(col(\"json_value\"), schema_price).alias(\"data\")).select(\"data.*\")"
   ]
  },
  {
   "cell_type": "markdown",
   "id": "9c24f0c4",
   "metadata": {},
   "source": [
    "For ease of debugging, run this cell to see the parsed data."
   ]
  },
  {
   "cell_type": "code",
   "execution_count": null,
   "id": "5296f6bb",
   "metadata": {},
   "outputs": [],
   "source": [
    "# Print to console (OPTIONAL) to check whether the data is read correctly or not\n",
    "query_price = parsed_price_df.writeStream \\\n",
    "    .outputMode(\"update\") \\\n",
    "    .format(\"console\") \\\n",
    "    .start()\n",
    "\n",
    "query_price.awaitTermination()\n",
    "\n",
    "# Stop the debug stream\n",
    "query_price.stop()"
   ]
  },
  {
   "cell_type": "markdown",
   "id": "49d6b9e4",
   "metadata": {},
   "source": [
    "### Read data from `btc-price-moving` topic"
   ]
  },
  {
   "cell_type": "markdown",
   "id": "c563d3a3",
   "metadata": {},
   "source": [
    "Read and parse the data from the `btc-price-moving` topic"
   ]
  },
  {
   "cell_type": "code",
   "execution_count": null,
   "id": "10b0cb09",
   "metadata": {},
   "outputs": [],
   "source": [
    "# Read data from btc-price-moving topic\n",
    "# btc-price-moving publish its data from inside the container to outside using 9092 port\n",
    "df_moving = spark.readStream \\\n",
    "    .format(\"kafka\") \\\n",
    "    .option(\"kafka.bootstrap.servers\", \"broker:9092\") \\\n",
    "    .option(\"subscribe\", \"btc-price-moving\") \\\n",
    "    .load()\n",
    "    \n",
    "# Get kafka value and convert it from binary to string format\n",
    "df_string_moving = df_moving.selectExpr(\"CAST(value AS STRING) as json_value\")\n",
    "\n",
    "# Define schema for each sliding window\n",
    "schema_window = StructType() \\\n",
    "    .add(\"window\", StringType()) \\\n",
    "    .add(\"avg_price\", DoubleType()) \\\n",
    "    .add(\"std_price\", DoubleType())\n",
    "\n",
    "# Define schema for each record which consists of array of different duration sliding windows defined above\n",
    "schema_moving = StructType() \\\n",
    "    .add(\"timestamp\", StringType()) \\\n",
    "    .add(\"symbol\", StringType()) \\\n",
    "    .add(\"windows\", ArrayType(schema_window))\n",
    "\n",
    "# Parse JSON\n",
    "parsed_moving_df = df_string_moving.select(from_json(col(\"json_value\"), schema_moving).alias(\"data\")) \\\n",
    "                                .select(\"data.timestamp\", explode(\"data.windows\").alias(\"win\"))         "
   ]
  },
  {
   "cell_type": "markdown",
   "id": "c058d992",
   "metadata": {},
   "source": [
    "Explode the sliding window in each record."
   ]
  },
  {
   "cell_type": "code",
   "execution_count": null,
   "id": "9da5dca2",
   "metadata": {},
   "outputs": [],
   "source": [
    "# Cause the record consists of array of different duration sliding windows, we have to explode them \n",
    "# to a single window with corresponding timestamp in the record\n",
    "flat_moving_df = parsed_moving_df.select(\n",
    "    col(\"moving_ts\"),\n",
    "    col(\"symbol\"),\n",
    "    col(\"win.window\").alias(\"window_type\"),       # \"30s\", \"1m\", ...\n",
    "    col(\"win.avg_price\").alias(\"mean\"),\n",
    "    col(\"win.std_price\").alias(\"std\")\n",
    ")"
   ]
  },
  {
   "cell_type": "markdown",
   "id": "bce84dc1",
   "metadata": {},
   "source": [
    "For ease of debugging, run this cell to see the parsed data."
   ]
  },
  {
   "cell_type": "code",
   "execution_count": null,
   "id": "3c1de739",
   "metadata": {},
   "outputs": [],
   "source": [
    "# Print to console (OPTIONAL) to check whether the data is read correctly or not\n",
    "query_moving = flat_moving_df.writeStream \\\n",
    "    .outputMode(\"update\") \\\n",
    "    .format(\"console\") \\\n",
    "    .start()\n",
    "\n",
    "query_moving.awaitTermination()\n",
    "\n",
    "# Stop the debugging stream\n",
    "query_moving.stop()"
   ]
  },
  {
   "cell_type": "markdown",
   "id": "1b1c5fc0",
   "metadata": {},
   "source": [
    "### Join two topic by sliding window"
   ]
  },
  {
   "cell_type": "markdown",
   "id": "198e66b0",
   "metadata": {},
   "source": [
    "Join records in topic `btc-price` and `btc-price-moving` by its correspond sliding window."
   ]
  },
  {
   "cell_type": "code",
   "execution_count": null,
   "id": "70788428",
   "metadata": {},
   "outputs": [],
   "source": [
    "from pyspark.sql.functions import window\n",
    "\n",
    "# List of sliding windows and its duration\n",
    "windows = [(\"30s\", \"30 seconds\"), \n",
    "           (\"1m\", \"1 minute\"), \n",
    "           (\"5m\", \"5 minutes\"), \n",
    "           (\"15m\", \"15 minutes\"), \n",
    "           (\"30m\", \"30 minutes\"), \n",
    "           (\"1h\", \"1 hour\")]\n",
    "\n",
    "window_zscore = None\n",
    "for label, duration in windows:\n",
    "    price = price_parsed.withWatermark(\"timestamp\", \"10 seconds\") \\\n",
    "        .withColumn(\"window\", window(\"timestamp\", duration))\n",
    "\n",
    "    moving = flat_df.filter(col(\"window_type\") == label) \\\n",
    "        .withColumn(\"window\", window(\"moving_ts\", duration))\n",
    "\n",
    "    joined = price.join(moving, on=\"window\")\n",
    "\n",
    "    # handle the case where standard deviation is equal to zero\n",
    "    z_col = when(col(\"std\") == 0, 0).otherwise((col(\"price\") - col(\"mean\")) / col(\"std\"))\n",
    "    \n",
    "    result = joined.select(\n",
    "        \"timestamp\", \n",
    "        \"symbol\", \n",
    "        lit(label).alias(\"window\"),\n",
    "        z_col.alias(\"zscore_price\")\n",
    "    )\n",
    "        \n",
    "    if window_zscore is None:\n",
    "        window_zscore = result\n",
    "    else:\n",
    "        window_zscore = window_zscore.union(result)"
   ]
  },
  {
   "cell_type": "markdown",
   "id": "1b2d5a66",
   "metadata": {},
   "source": [
    "Group windows z-score to a single JSON record by timestamp and symbol"
   ]
  },
  {
   "cell_type": "code",
   "execution_count": null,
   "id": "b8d55da2",
   "metadata": {},
   "outputs": [],
   "source": [
    "# Group windows z-score to a single JSON record by timestamp and symbol\n",
    "grouped = window_zscore.groupBy(\"symbol\", \"timestamp\").agg(\n",
    "    collect_list(\n",
    "        struct(\n",
    "            col(\"window\"), \n",
    "            col(\"zscore_price\")\n",
    "        )\n",
    "    ).alias(\"windows\")\n",
    ").select(\n",
    "    to_json(\n",
    "        struct(\n",
    "            col(\"timestamp\").cast(\"string\"),\n",
    "            col(\"symbol\"),\n",
    "            col(\"windows\")\n",
    "        )\n",
    "    ).alias(\"value\")\n",
    ")"
   ]
  },
  {
   "cell_type": "markdown",
   "id": "55bf0ac4",
   "metadata": {},
   "source": [
    "Write into Kafka topic `btc-price-zscore`"
   ]
  },
  {
   "cell_type": "code",
   "execution_count": null,
   "id": "690c59fa",
   "metadata": {},
   "outputs": [],
   "source": [
    "# Write into Kafka topic btc-price-zscore\n",
    "grouped.writeStream.format(\"kafka\") \\\n",
    "    .option(\"kafka.bootstrap.servers\", \"broker:9092\") \\\n",
    "    .option(\"topic\", \"btc-price-zscore\").option(\"checkpointLocation\", '/tmp/btc-zscore-checkpoint') \\\n",
    "    .outputMode(\"update\") \\\n",
    "    .start().awaitTermination()"
   ]
  }
 ],
 "metadata": {
  "kernelspec": {
   "display_name": "Python 3 (ipykernel)",
   "language": "python",
   "name": "python3"
  },
  "language_info": {
   "codemirror_mode": {
    "name": "ipython",
    "version": 3
   },
   "file_extension": ".py",
   "mimetype": "text/x-python",
   "name": "python",
   "nbconvert_exporter": "python",
   "pygments_lexer": "ipython3",
   "version": "3.11.8"
  }
 },
 "nbformat": 4,
 "nbformat_minor": 5
}
