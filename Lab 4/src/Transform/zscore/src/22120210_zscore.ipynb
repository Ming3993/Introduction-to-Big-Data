{
 "cells": [
  {
   "cell_type": "code",
   "execution_count": 1,
   "id": "6e034081",
   "metadata": {},
   "outputs": [],
   "source": [
    "from pyspark.sql import SparkSession\n",
    "from pyspark.sql.functions import from_json, col\n",
    "from pyspark.sql.types import StructType, StringType, DoubleType, ArrayType"
   ]
  },
  {
   "cell_type": "code",
   "execution_count": 2,
   "id": "3a6ca1bc",
   "metadata": {},
   "outputs": [
    {
     "name": "stdout",
     "output_type": "stream",
     "text": [
      "SPARK_HOME: /opt/bitnami/spark\n"
     ]
    }
   ],
   "source": [
    "import os\n",
    "print(\"SPARK_HOME:\", os.environ.get(\"SPARK_HOME\"))"
   ]
  },
  {
   "cell_type": "code",
   "execution_count": 3,
   "id": "ce24b8ab-c3c4-4828-bfcf-c6ba58f8acfa",
   "metadata": {},
   "outputs": [],
   "source": [
    "import os\n",
    "jars = os.environ.get('SPARK_JARS', '')"
   ]
  },
  {
   "cell_type": "code",
   "execution_count": 4,
   "id": "89d07b48",
   "metadata": {},
   "outputs": [
    {
     "name": "stderr",
     "output_type": "stream",
     "text": [
      "25/06/14 18:25:59 WARN NativeCodeLoader: Unable to load native-hadoop library for your platform... using builtin-java classes where applicable\n",
      "Setting default log level to \"WARN\".\n",
      "To adjust logging level use sc.setLogLevel(newLevel). For SparkR, use setLogLevel(newLevel).\n"
     ]
    },
    {
     "name": "stdout",
     "output_type": "stream",
     "text": [
      "✅ Spark version: 3.5.0\n"
     ]
    }
   ],
   "source": [
    "from pyspark.sql import SparkSession\n",
    "import os\n",
    "\n",
    "spark = SparkSession.builder \\\n",
    "    .config(\"spark.jars\", jars) \\\n",
    "    .appName(\"Check Spark Version\") \\\n",
    "    .master(\"local[*]\") \\\n",
    "    .getOrCreate()\n",
    "\n",
    "print(\"✅ Spark version:\", spark.version)\n"
   ]
  },
  {
   "cell_type": "code",
   "execution_count": 5,
   "id": "510d3d6d",
   "metadata": {},
   "outputs": [],
   "source": [
    "# Đọc dữ liệu từ Kafka topic 'btc-price'\n",
    "df_price = spark.readStream \\\n",
    "    .format(\"kafka\") \\\n",
    "    .option(\"kafka.bootstrap.servers\", \"broker:9092\") \\\n",
    "    .option(\"subscribe\", \"btc-price\") \\\n",
    "    .load()"
   ]
  },
  {
   "cell_type": "code",
   "execution_count": 6,
   "id": "a5252a82",
   "metadata": {},
   "outputs": [],
   "source": [
    "# Kafka trả về key và value dạng binary, cần chuyển sang string\n",
    "df_string_price = df_price.selectExpr(\"CAST(value AS STRING) as json_value\")"
   ]
  },
  {
   "cell_type": "code",
   "execution_count": 7,
   "id": "d6ec34a7",
   "metadata": {},
   "outputs": [],
   "source": [
    "# Nếu dữ liệu là JSON, bạn có thể define schema để parse\n",
    "schema_price = StructType() \\\n",
    "    .add(\"symbol\", StringType()) \\\n",
    "    .add(\"price\", StringType()) \\\n",
    "    .add(\"timestamp\", StringType())"
   ]
  },
  {
   "cell_type": "code",
   "execution_count": 8,
   "id": "6490b5ce",
   "metadata": {},
   "outputs": [],
   "source": [
    "# Parse JSON\n",
    "parsed_price_df = df_string_price.select(from_json(col(\"json_value\"), schema_price).alias(\"data\")).select(\"data.*\")"
   ]
  },
  {
   "cell_type": "code",
   "execution_count": null,
   "id": "5296f6bb",
   "metadata": {},
   "outputs": [],
   "source": [
    "# In ra console\n",
    "query_price = parsed_price_df.writeStream \\\n",
    "    .outputMode(\"update\") \\\n",
    "    .format(\"console\") \\\n",
    "    .start()\n",
    "\n",
    "query_price.awaitTermination()"
   ]
  },
  {
   "cell_type": "code",
   "execution_count": 6,
   "id": "10b0cb09",
   "metadata": {},
   "outputs": [],
   "source": [
    "df_moving = spark.readStream \\\n",
    "    .format(\"kafka\") \\\n",
    "    .option(\"kafka.bootstrap.servers\", \"broker:9092\") \\\n",
    "    .option(\"subscribe\", \"btc-price-moving\") \\\n",
    "    .load()"
   ]
  },
  {
   "cell_type": "code",
   "execution_count": 7,
   "id": "c1176184",
   "metadata": {},
   "outputs": [],
   "source": [
    "# Kafka trả về key và value dạng binary, cần chuyển sang string\n",
    "df_string_moving = df_moving.selectExpr(\"CAST(value AS STRING) as json_value\")"
   ]
  },
  {
   "cell_type": "code",
   "execution_count": 9,
   "id": "d098cee4",
   "metadata": {},
   "outputs": [],
   "source": [
    "# Define schema of each sliding window\n",
    "schema_window = StructType() \\\n",
    "    .add(\"window\", StringType()) \\\n",
    "    .add(\"avg_price\", DoubleType()) \\\n",
    "    .add(\"std_price\", DoubleType())\n",
    "\n",
    "# Define schema for each record which consists array of sliding windows defined above\n",
    "schema_moving = StructType() \\\n",
    "    .add(\"timestamp\", StringType()) \\\n",
    "    .add(\"symbol\", StringType()) \\\n",
    "    .add(\"windows\", ArrayType(schema_window))"
   ]
  },
  {
   "cell_type": "code",
   "execution_count": 10,
   "id": "9da5dca2",
   "metadata": {},
   "outputs": [],
   "source": [
    "parsed_moving_df = df_string_moving.select(from_json(col(\"json_value\"), schema_moving).alias(\"data\")).select(\"data.*\")"
   ]
  },
  {
   "cell_type": "code",
   "execution_count": null,
   "id": "3c1de739",
   "metadata": {},
   "outputs": [],
   "source": [
    "# In ra console\n",
    "query_moving = parsed_moving_df.writeStream \\\n",
    "    .outputMode(\"update\") \\\n",
    "    .format(\"console\") \\\n",
    "    .start()\n",
    "\n",
    "query_moving.awaitTermination()"
   ]
  }
 ],
 "metadata": {
  "kernelspec": {
   "display_name": "Python 3 (ipykernel)",
   "language": "python",
   "name": "python3"
  },
  "language_info": {
   "codemirror_mode": {
    "name": "ipython",
    "version": 3
   },
   "file_extension": ".py",
   "mimetype": "text/x-python",
   "name": "python",
   "nbconvert_exporter": "python",
   "pygments_lexer": "ipython3",
   "version": "3.11.8"
  }
 },
 "nbformat": 4,
 "nbformat_minor": 5
}
