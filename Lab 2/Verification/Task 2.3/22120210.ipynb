{
 "cells": [
  {
   "cell_type": "markdown",
   "id": "345b0569",
   "metadata": {},
   "source": [
    "### Step 1: Import essential libraries and create a Spark Session"
   ]
  },
  {
   "cell_type": "code",
   "execution_count": 18,
   "id": "4c061602",
   "metadata": {},
   "outputs": [],
   "source": [
    "from pyspark.sql import SparkSession\n",
    "from pyspark.sql import functions as f\n",
    "\n",
    "spark = SparkSession.builder.getOrCreate()"
   ]
  },
  {
   "cell_type": "markdown",
   "id": "63d4dd9f",
   "metadata": {},
   "source": [
    "### Step 2: Read the input file"
   ]
  },
  {
   "cell_type": "code",
   "execution_count": 19,
   "id": "fa7421e3",
   "metadata": {},
   "outputs": [],
   "source": [
    "df = spark.read.parquet(\"../../Datasets/shapes.parquet\")"
   ]
  },
  {
   "cell_type": "code",
   "execution_count": 33,
   "id": "acde0e9f",
   "metadata": {},
   "outputs": [
    {
     "name": "stdout",
     "output_type": "stream",
     "text": [
      "+--------+--------------------------------------------+\n",
      "|shape_id|vertices                                    |\n",
      "+--------+--------------------------------------------+\n",
      "|Shape_0 |[[35, 28], [43, 28], [43, 32], [35, 32]]    |\n",
      "|Shape_1 |[[44, 16], [53, 16], [53, 20], [44, 20]]    |\n",
      "|Shape_2 |[[67, 84], [76, 84], [76, 92], [67, 92]]    |\n",
      "|Shape_3 |[[29, 37], [37, 37], [37, 45], [29, 45]]    |\n",
      "|Shape_4 |[[51, 79], [54, 79], [54, 88], [51, 88]]    |\n",
      "|Shape_5 |[[55, 33], [62, 33], [62, 39], [55, 39]]    |\n",
      "|Shape_6 |[[17, 88], [21, 88], [21, 97], [17, 97]]    |\n",
      "|Shape_7 |[[1, 2], [10, 2], [10, 7], [1, 7]]          |\n",
      "|Shape_8 |[[65, 14], [69, 14], [69, 20], [65, 20]]    |\n",
      "|Shape_9 |[[12, 48], [19, 48], [19, 51], [12, 51]]    |\n",
      "|Shape_10|[[97, 20], [100, 20], [100, 26], [97, 26]]  |\n",
      "|Shape_11|[[7, 38], [15, 38], [15, 45], [7, 45]]      |\n",
      "|Shape_12|[[69, 65], [78, 65], [78, 68], [69, 68]]    |\n",
      "|Shape_13|[[35, 8], [42, 8], [42, 18], [35, 18]]      |\n",
      "|Shape_14|[[96, 35], [100, 35], [100, 38], [96, 38]]  |\n",
      "|Shape_15|[[74, 62], [81, 62], [81, 69], [74, 69]]    |\n",
      "|Shape_16|[[75, 97], [80, 97], [80, 102], [75, 102]]  |\n",
      "|Shape_17|[[12, 4], [19, 4], [19, 12], [12, 12]]      |\n",
      "|Shape_18|[[54, 17], [57, 17], [57, 20], [54, 20]]    |\n",
      "|Shape_19|[[100, 66], [106, 66], [106, 70], [100, 70]]|\n",
      "+--------+--------------------------------------------+\n",
      "only showing top 20 rows\n",
      "\n"
     ]
    }
   ],
   "source": [
    "df.show(truncate=False)"
   ]
  },
  {
   "cell_type": "markdown",
   "id": "cd813b41",
   "metadata": {},
   "source": [
    "Looks like this dataset contains all rectangles, let's verify this hypothesis."
   ]
  },
  {
   "cell_type": "code",
   "execution_count": 20,
   "id": "5dfc1929",
   "metadata": {},
   "outputs": [
    {
     "name": "stdout",
     "output_type": "stream",
     "text": [
      "+--------+--------------------------------------------+\n",
      "|shape_id|vertices                                    |\n",
      "+--------+--------------------------------------------+\n",
      "|Shape_0 |[[35, 28], [35, 32], [43, 28], [43, 32]]    |\n",
      "|Shape_1 |[[44, 16], [44, 20], [53, 16], [53, 20]]    |\n",
      "|Shape_2 |[[67, 84], [67, 92], [76, 84], [76, 92]]    |\n",
      "|Shape_3 |[[29, 37], [29, 45], [37, 37], [37, 45]]    |\n",
      "|Shape_4 |[[51, 79], [51, 88], [54, 79], [54, 88]]    |\n",
      "|Shape_5 |[[55, 33], [55, 39], [62, 33], [62, 39]]    |\n",
      "|Shape_6 |[[17, 88], [17, 97], [21, 88], [21, 97]]    |\n",
      "|Shape_7 |[[1, 2], [1, 7], [10, 2], [10, 7]]          |\n",
      "|Shape_8 |[[65, 14], [65, 20], [69, 14], [69, 20]]    |\n",
      "|Shape_9 |[[12, 48], [12, 51], [19, 48], [19, 51]]    |\n",
      "|Shape_10|[[97, 20], [97, 26], [100, 20], [100, 26]]  |\n",
      "|Shape_11|[[7, 38], [7, 45], [15, 38], [15, 45]]      |\n",
      "|Shape_12|[[69, 65], [69, 68], [78, 65], [78, 68]]    |\n",
      "|Shape_13|[[35, 8], [35, 18], [42, 8], [42, 18]]      |\n",
      "|Shape_14|[[96, 35], [96, 38], [100, 35], [100, 38]]  |\n",
      "|Shape_15|[[74, 62], [74, 69], [81, 62], [81, 69]]    |\n",
      "|Shape_16|[[75, 97], [75, 102], [80, 97], [80, 102]]  |\n",
      "|Shape_17|[[12, 4], [12, 12], [19, 4], [19, 12]]      |\n",
      "|Shape_18|[[54, 17], [54, 20], [57, 17], [57, 20]]    |\n",
      "|Shape_19|[[100, 66], [100, 70], [106, 66], [106, 70]]|\n",
      "+--------+--------------------------------------------+\n",
      "only showing top 20 rows\n",
      "\n"
     ]
    }
   ],
   "source": [
    "df_sorted = df.withColumn(\"vertices\", f.expr(\"array_sort(vertices)\"))\n",
    "df_sorted.show(truncate=False)"
   ]
  },
  {
   "cell_type": "code",
   "execution_count": 36,
   "id": "b2b52fc0",
   "metadata": {},
   "outputs": [
    {
     "name": "stdout",
     "output_type": "stream",
     "text": [
      "+--------+--------+---+---+---+---+---+---+---+---+-------+\n",
      "|shape_id|vertices|x0 |y0 |x1 |y1 |x2 |y2 |x3 |y3 |is_rect|\n",
      "+--------+--------+---+---+---+---+---+---+---+---+-------+\n",
      "+--------+--------+---+---+---+---+---+---+---+---+-------+\n",
      "\n"
     ]
    }
   ],
   "source": [
    "df_rect_check = df_sorted \\\n",
    "    .withColumn(\"x0\", f.col(\"vertices\")[0][0]) \\\n",
    "    .withColumn(\"y0\", f.col(\"vertices\")[0][1]) \\\n",
    "    .withColumn(\"x1\", f.col(\"vertices\")[1][0]) \\\n",
    "    .withColumn(\"y1\", f.col(\"vertices\")[1][1]) \\\n",
    "    .withColumn(\"x2\", f.col(\"vertices\")[2][0]) \\\n",
    "    .withColumn(\"y2\", f.col(\"vertices\")[2][1]) \\\n",
    "    .withColumn(\"x3\", f.col(\"vertices\")[3][0]) \\\n",
    "    .withColumn(\"y3\", f.col(\"vertices\")[3][1]) \\\n",
    "    .withColumn(\"is_rect\", \n",
    "        (f.col(\"x0\") == f.col(\"x1\")) &\n",
    "        (f.col(\"y0\") == f.col(\"y2\")) &\n",
    "        (f.col(\"y1\") == f.col(\"y3\")) &\n",
    "        (f.col(\"x3\") == f.col(\"x2\"))\n",
    "    )\n",
    "\n",
    "df_rect_check.filter(~f.col(\"is_rect\")).show(truncate=False)\n"
   ]
  },
  {
   "cell_type": "markdown",
   "id": "f9d268ea",
   "metadata": {},
   "source": [
    "Based on this result, we can narrow the problem down to detecting overlapping upright rectangles."
   ]
  },
  {
   "cell_type": "markdown",
   "id": "bfb205fc",
   "metadata": {},
   "source": [
    "### Step 3: Computes the bounding box (min/max x and y) for each shape based on its vertices."
   ]
  },
  {
   "cell_type": "code",
   "execution_count": 21,
   "id": "46273537",
   "metadata": {},
   "outputs": [],
   "source": [
    "vertices_df = df.withColumn(\"v\", f.explode(f.col(\"vertices\"))) \\\n",
    "    .withColumn(\"x\", f.col(\"v\")[0]) \\\n",
    "    .withColumn(\"y\", f.col(\"v\")[1]) \\\n",
    "    .groupBy(\"shape_id\") \\\n",
    "    .agg(\n",
    "        f.expr(\"min(x)\").alias(\"x_min\"),\n",
    "        f.expr(\"max(x)\").alias(\"x_max\"),\n",
    "        f.expr(\"min(y)\").alias(\"y_min\"),\n",
    "        f.expr(\"max(y)\").alias(\"y_max\")\n",
    "    )"
   ]
  },
  {
   "cell_type": "code",
   "execution_count": 22,
   "id": "16fb8544",
   "metadata": {},
   "outputs": [
    {
     "name": "stderr",
     "output_type": "stream",
     "text": [
      "[Stage 127:=========================================================(1 + 0) / 1]\r"
     ]
    },
    {
     "name": "stdout",
     "output_type": "stream",
     "text": [
      "+---------+-----+-----+-----+-----+\n",
      "|shape_id |x_min|x_max|y_min|y_max|\n",
      "+---------+-----+-----+-----+-----+\n",
      "|Shape_245|37   |41   |60   |65   |\n",
      "|Shape_290|34   |40   |98   |102  |\n",
      "|Shape_465|71   |80   |63   |68   |\n",
      "|Shape_473|33   |43   |24   |32   |\n",
      "|Shape_490|33   |43   |26   |30   |\n",
      "|Shape_739|43   |50   |49   |59   |\n",
      "|Shape_763|19   |25   |44   |54   |\n",
      "|Shape_834|69   |75   |29   |35   |\n",
      "|Shape_902|82   |86   |19   |23   |\n",
      "|Shape_104|51   |54   |36   |44   |\n",
      "|Shape_472|44   |49   |82   |87   |\n",
      "|Shape_476|54   |64   |80   |90   |\n",
      "|Shape_478|97   |106  |69   |73   |\n",
      "|Shape_564|75   |81   |2    |11   |\n",
      "|Shape_762|31   |34   |82   |91   |\n",
      "|Shape_833|20   |27   |93   |100  |\n",
      "|Shape_151|75   |84   |70   |75   |\n",
      "|Shape_306|54   |59   |73   |82   |\n",
      "|Shape_595|0    |9    |28   |32   |\n",
      "|Shape_765|54   |61   |56   |65   |\n",
      "+---------+-----+-----+-----+-----+\n",
      "only showing top 20 rows\n",
      "\n"
     ]
    },
    {
     "name": "stderr",
     "output_type": "stream",
     "text": [
      "                                                                                \r"
     ]
    }
   ],
   "source": [
    "vertices_df.show(truncate=False)"
   ]
  },
  {
   "cell_type": "markdown",
   "id": "8954067f",
   "metadata": {},
   "source": [
    "### Step 4: Perform a self cross-join to generate shape pairs"
   ]
  },
  {
   "cell_type": "code",
   "execution_count": 23,
   "id": "71b5f5a0",
   "metadata": {},
   "outputs": [],
   "source": [
    "df1 = vertices_df.alias(\"a\")\n",
    "df2 = vertices_df.alias(\"b\")\n",
    "joined = df1.crossJoin(df2).filter(f.col(\"a.shape_id\") < f.col(\"b.shape_id\"))"
   ]
  },
  {
   "cell_type": "markdown",
   "id": "a1e4af13",
   "metadata": {},
   "source": [
    "### Step 5: Check for overlapping bounding box"
   ]
  },
  {
   "cell_type": "code",
   "execution_count": 24,
   "id": "93eebd58",
   "metadata": {},
   "outputs": [],
   "source": [
    "overlapping = joined.filter(\n",
    "    (f.col(\"a.x_min\") < f.col(\"b.x_max\")) & (f.col(\"a.x_max\") > f.col(\"b.x_min\")) &\n",
    "    (f.col(\"a.y_min\") < f.col(\"b.y_max\")) & (f.col(\"a.y_max\") > f.col(\"b.y_min\"))\n",
    ")"
   ]
  },
  {
   "cell_type": "markdown",
   "id": "ba497c7b",
   "metadata": {},
   "source": [
    "### Step 6: Choose the overlapping pair"
   ]
  },
  {
   "cell_type": "code",
   "execution_count": 29,
   "id": "87fedfc4",
   "metadata": {},
   "outputs": [],
   "source": [
    "result = overlapping.select(\n",
    "    f.col(\"a.shape_id\").alias(\"shape_1\"),\n",
    "    f.col(\"b.shape_id\").alias(\"shape_2\")\n",
    ")\n",
    "\n",
    "result = result.withColumn(\"shape_1\", f.regexp_replace(f.col(\"shape_1\"), \"Shape_\", \"\").cast(\"int\")) \\\n",
    "                     .withColumn(\"shape_2\", f.regexp_replace(f.col(\"shape_2\"), \"Shape_\", \"\").cast(\"int\"))\n",
    "\n",
    "result = result.orderBy(\"shape_1\", \"shape_2\")"
   ]
  },
  {
   "cell_type": "code",
   "execution_count": 30,
   "id": "13594457",
   "metadata": {},
   "outputs": [
    {
     "name": "stderr",
     "output_type": "stream",
     "text": [
      "[Stage 160:>                                                        (0 + 1) / 1]\r"
     ]
    },
    {
     "name": "stdout",
     "output_type": "stream",
     "text": [
      "+-------+-------+\n",
      "|shape_1|shape_2|\n",
      "+-------+-------+\n",
      "|0      |41     |\n",
      "|0      |143    |\n",
      "|0      |198    |\n",
      "|0      |430    |\n",
      "|0      |473    |\n",
      "|0      |490    |\n",
      "|0      |496    |\n",
      "|0      |605    |\n",
      "|0      |637    |\n",
      "|0      |729    |\n",
      "|0      |818    |\n",
      "|1      |118    |\n",
      "|1      |160    |\n",
      "|1      |186    |\n",
      "|1      |220    |\n",
      "|1      |247    |\n",
      "|1      |256    |\n",
      "|1      |377    |\n",
      "|1      |444    |\n",
      "|1      |809    |\n",
      "+-------+-------+\n",
      "only showing top 20 rows\n",
      "\n"
     ]
    },
    {
     "name": "stderr",
     "output_type": "stream",
     "text": [
      "                                                                                \r"
     ]
    }
   ],
   "source": [
    "result.show(truncate=False)"
   ]
  },
  {
   "cell_type": "markdown",
   "id": "bf37e0bf",
   "metadata": {},
   "source": [
    "### Step 7: Verify the output"
   ]
  },
  {
   "cell_type": "markdown",
   "id": "b48a719e",
   "metadata": {},
   "source": [
    "Read the output from source code directory"
   ]
  },
  {
   "cell_type": "code",
   "execution_count": 31,
   "id": "2dd5323d",
   "metadata": {},
   "outputs": [],
   "source": [
    "main_df = spark.read.csv('../../src/Task_2.3/output.csv',header= True)"
   ]
  },
  {
   "cell_type": "markdown",
   "id": "bab70e49",
   "metadata": {},
   "source": [
    "Check whether the dataframes are identical"
   ]
  },
  {
   "cell_type": "code",
   "execution_count": null,
   "id": "dbdebb8e",
   "metadata": {},
   "outputs": [
    {
     "name": "stderr",
     "output_type": "stream",
     "text": [
      "                                                                                \r"
     ]
    },
    {
     "name": "stdout",
     "output_type": "stream",
     "text": [
      "+-------+-------+\n",
      "|shape_1|shape_2|\n",
      "+-------+-------+\n",
      "+-------+-------+\n",
      "\n"
     ]
    },
    {
     "name": "stderr",
     "output_type": "stream",
     "text": [
      "                                                                                \r"
     ]
    },
    {
     "name": "stdout",
     "output_type": "stream",
     "text": [
      "Number of rows different: 0\n"
     ]
    }
   ],
   "source": [
    "# Rows in main_df but not in result\n",
    "diff1 = main_df.subtract(result)\n",
    "\n",
    "# Rows in result but not in main_df\n",
    "diff2 = result.subtract(main_df)\n",
    "\n",
    "# Union 2 the different rows\n",
    "differences = diff1.union(diff2)\n",
    "\n",
    "# Print the result\n",
    "differences.show()\n",
    "\n",
    "print(f\"Number of different rows: {differences.count()}\")"
   ]
  }
 ],
 "metadata": {
  "kernelspec": {
   "display_name": "bigdata",
   "language": "python",
   "name": "python3"
  },
  "language_info": {
   "codemirror_mode": {
    "name": "ipython",
    "version": 3
   },
   "file_extension": ".py",
   "mimetype": "text/x-python",
   "name": "python",
   "nbconvert_exporter": "python",
   "pygments_lexer": "ipython3",
   "version": "3.12.3"
  }
 },
 "nbformat": 4,
 "nbformat_minor": 5
}
